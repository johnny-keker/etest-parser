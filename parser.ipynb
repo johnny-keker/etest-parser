{
 "cells": [
  {
   "cell_type": "code",
   "execution_count": 1,
   "metadata": {},
   "outputs": [],
   "source": [
    "def process_options():\n",
    "    q_type = None\n",
    "    right = None\n",
    "    while q_type is None or right is None:\n",
    "        line = f.readline().replace('Є', '').replace('\\n', '')\n",
    "        if 'type' in line:\n",
    "            q_type = int(line.split('=')[1])\n",
    "        elif 'right' in line:\n",
    "            right = int(line.split('=')[1])\n",
    "    return (q_type, right)\n",
    "\n",
    "def process_answers(q_type, right):\n",
    "    buf = \"\\n<answers>\\n<br>\"\n",
    "    if q_type == 7 or q_type == 1:\n",
    "        while True:\n",
    "            line = f.readline().replace('Є', '').replace('\\n', '')\n",
    "            if '<a_1>' in line:\n",
    "                buf += '<b>'\n",
    "                l = f.readline().replace('Є', '').replace('\\n', '')\n",
    "                while l == '':\n",
    "                    l = f.readline().replace('Є', '').replace('\\n', '')\n",
    "                buf += l\n",
    "                buf += '</b>\\n</answers>\\n<br><br>\\n'\n",
    "                return buf\n",
    "    elif q_type == 2 or q_type == 6:\n",
    "        for i in range(1, right+1):\n",
    "            while True:\n",
    "                line = f.readline().replace('Є', '').replace('\\n', '')\n",
    "                if f'<a_{i}>' in line:\n",
    "                    buf += '<b>'\n",
    "                    l = f.readline().replace('Є', '').replace('\\n', '')\n",
    "                    while l == '':\n",
    "                        l = f.readline().replace('Є', '').replace('\\n', '')\n",
    "                    buf += l\n",
    "                    buf += f'</b><br>\\n'\n",
    "                    break\n",
    "        buf += '</answers>\\n<br><br>\\n'\n",
    "        return buf\n",
    "    else:\n",
    "        return ''\n",
    "            \n",
    "\n",
    "def process_question(q_type, right):\n",
    "    while True:\n",
    "        line = f.readline().replace('Є', '').replace('\\n', '')\n",
    "        if '<question>' in line:\n",
    "            q = '<question>\\n'\n",
    "            while True:\n",
    "                line = f.readline().replace('Є', '').replace('\\n', '')\n",
    "                if '</question>' in line:\n",
    "                    q += '\\n</question>'\n",
    "                    break\n",
    "                q += line\n",
    "            \n",
    "            q += process_answers(q_type, right)\n",
    "            return q\n",
    "    "
   ]
  },
  {
   "cell_type": "code",
   "execution_count": 2,
   "metadata": {
    "scrolled": false
   },
   "outputs": [],
   "source": [
    "testname = 'test'\n",
    "f = open(f'{testname}', 'rt')\n",
    "lines_count = len(f.readlines())\n",
    "f.seek(0)\n",
    "\n",
    "contents = '<!DOCTYPE html>\\n<head>\\n</head>\\n<body>\\n'\n",
    "\n",
    "for i in range(0, lines_count):\n",
    "    line = f.readline().replace('Є', '').replace('\\n', '')\n",
    "    \n",
    "    if '<options>' in line:\n",
    "        (q_Type, Right) = process_options()\n",
    "        contents += process_question(q_Type, Right)\n",
    "contents += '\\n</body>\\n'\n",
    "f.close()\n",
    "with open(f'{testname}.html', 'w+') as f:\n",
    "    f.write(contents)"
   ]
  },
  {
   "cell_type": "code",
   "execution_count": 64,
   "metadata": {},
   "outputs": [
    {
     "ename": "KeyboardInterrupt",
     "evalue": "",
     "output_type": "error",
     "traceback": [
      "\u001b[0;31m---------------------------------------------------------------------------\u001b[0m",
      "\u001b[0;31mKeyboardInterrupt\u001b[0m                         Traceback (most recent call last)",
      "\u001b[0;32m<ipython-input-64-28cdb03ce9b4>\u001b[0m in \u001b[0;36m<module>\u001b[0;34m\u001b[0m\n\u001b[0;32m----> 1\u001b[0;31m \u001b[0mprocess_file\u001b[0m\u001b[0;34m(\u001b[0m\u001b[0;34m'test3'\u001b[0m\u001b[0;34m)\u001b[0m\u001b[0;34m\u001b[0m\u001b[0;34m\u001b[0m\u001b[0m\n\u001b[0m",
      "\u001b[0;32m<ipython-input-63-b3f3d5da9c1e>\u001b[0m in \u001b[0;36mprocess_file\u001b[0;34m(filename)\u001b[0m\n\u001b[1;32m     10\u001b[0m \u001b[0;34m\u001b[0m\u001b[0m\n\u001b[1;32m     11\u001b[0m         \u001b[0;32mif\u001b[0m \u001b[0;34m'<options>'\u001b[0m \u001b[0;32min\u001b[0m \u001b[0mline\u001b[0m\u001b[0;34m:\u001b[0m\u001b[0;34m\u001b[0m\u001b[0;34m\u001b[0m\u001b[0m\n\u001b[0;32m---> 12\u001b[0;31m             \u001b[0;34m(\u001b[0m\u001b[0mq_Type\u001b[0m\u001b[0;34m,\u001b[0m \u001b[0mRight\u001b[0m\u001b[0;34m)\u001b[0m \u001b[0;34m=\u001b[0m \u001b[0mprocess_options\u001b[0m\u001b[0;34m(\u001b[0m\u001b[0;34m)\u001b[0m\u001b[0;34m\u001b[0m\u001b[0;34m\u001b[0m\u001b[0m\n\u001b[0m\u001b[1;32m     13\u001b[0m             \u001b[0mcontents\u001b[0m \u001b[0;34m+=\u001b[0m \u001b[0mprocess_question\u001b[0m\u001b[0;34m(\u001b[0m\u001b[0mq_Type\u001b[0m\u001b[0;34m,\u001b[0m \u001b[0mRight\u001b[0m\u001b[0;34m)\u001b[0m\u001b[0;34m\u001b[0m\u001b[0;34m\u001b[0m\u001b[0m\n\u001b[1;32m     14\u001b[0m             \u001b[0mprint\u001b[0m\u001b[0;34m(\u001b[0m\u001b[0mcontents\u001b[0m\u001b[0;34m)\u001b[0m\u001b[0;34m\u001b[0m\u001b[0;34m\u001b[0m\u001b[0m\n",
      "\u001b[0;32m<ipython-input-42-d8610137897c>\u001b[0m in \u001b[0;36mprocess_options\u001b[0;34m()\u001b[0m\n\u001b[1;32m      3\u001b[0m     \u001b[0mright\u001b[0m \u001b[0;34m=\u001b[0m \u001b[0;32mNone\u001b[0m\u001b[0;34m\u001b[0m\u001b[0;34m\u001b[0m\u001b[0m\n\u001b[1;32m      4\u001b[0m     \u001b[0;32mwhile\u001b[0m \u001b[0mq_type\u001b[0m \u001b[0;32mis\u001b[0m \u001b[0;32mNone\u001b[0m \u001b[0;32mor\u001b[0m \u001b[0mright\u001b[0m \u001b[0;32mis\u001b[0m \u001b[0;32mNone\u001b[0m\u001b[0;34m:\u001b[0m\u001b[0;34m\u001b[0m\u001b[0;34m\u001b[0m\u001b[0m\n\u001b[0;32m----> 5\u001b[0;31m         \u001b[0mline\u001b[0m \u001b[0;34m=\u001b[0m \u001b[0mf\u001b[0m\u001b[0;34m.\u001b[0m\u001b[0mreadline\u001b[0m\u001b[0;34m(\u001b[0m\u001b[0;34m)\u001b[0m\u001b[0;34m.\u001b[0m\u001b[0mreplace\u001b[0m\u001b[0;34m(\u001b[0m\u001b[0;34m'Є'\u001b[0m\u001b[0;34m,\u001b[0m \u001b[0;34m''\u001b[0m\u001b[0;34m)\u001b[0m\u001b[0;34m.\u001b[0m\u001b[0mreplace\u001b[0m\u001b[0;34m(\u001b[0m\u001b[0;34m'\\n'\u001b[0m\u001b[0;34m,\u001b[0m \u001b[0;34m''\u001b[0m\u001b[0;34m)\u001b[0m\u001b[0;34m\u001b[0m\u001b[0;34m\u001b[0m\u001b[0m\n\u001b[0m\u001b[1;32m      6\u001b[0m         \u001b[0;32mif\u001b[0m \u001b[0;34m'type'\u001b[0m \u001b[0;32min\u001b[0m \u001b[0mline\u001b[0m\u001b[0;34m:\u001b[0m\u001b[0;34m\u001b[0m\u001b[0;34m\u001b[0m\u001b[0m\n\u001b[1;32m      7\u001b[0m             \u001b[0mq_type\u001b[0m \u001b[0;34m=\u001b[0m \u001b[0mint\u001b[0m\u001b[0;34m(\u001b[0m\u001b[0mline\u001b[0m\u001b[0;34m.\u001b[0m\u001b[0msplit\u001b[0m\u001b[0;34m(\u001b[0m\u001b[0;34m'='\u001b[0m\u001b[0;34m)\u001b[0m\u001b[0;34m[\u001b[0m\u001b[0;36m1\u001b[0m\u001b[0;34m]\u001b[0m\u001b[0;34m)\u001b[0m\u001b[0;34m\u001b[0m\u001b[0;34m\u001b[0m\u001b[0m\n",
      "\u001b[0;32m/usr/lib64/python3.7/codecs.py\u001b[0m in \u001b[0;36mdecode\u001b[0;34m(self, input, final)\u001b[0m\n\u001b[1;32m    317\u001b[0m         \u001b[0;32mraise\u001b[0m \u001b[0mNotImplementedError\u001b[0m\u001b[0;34m\u001b[0m\u001b[0;34m\u001b[0m\u001b[0m\n\u001b[1;32m    318\u001b[0m \u001b[0;34m\u001b[0m\u001b[0m\n\u001b[0;32m--> 319\u001b[0;31m     \u001b[0;32mdef\u001b[0m \u001b[0mdecode\u001b[0m\u001b[0;34m(\u001b[0m\u001b[0mself\u001b[0m\u001b[0;34m,\u001b[0m \u001b[0minput\u001b[0m\u001b[0;34m,\u001b[0m \u001b[0mfinal\u001b[0m\u001b[0;34m=\u001b[0m\u001b[0;32mFalse\u001b[0m\u001b[0;34m)\u001b[0m\u001b[0;34m:\u001b[0m\u001b[0;34m\u001b[0m\u001b[0;34m\u001b[0m\u001b[0m\n\u001b[0m\u001b[1;32m    320\u001b[0m         \u001b[0;31m# decode input (taking the buffer into account)\u001b[0m\u001b[0;34m\u001b[0m\u001b[0;34m\u001b[0m\u001b[0;34m\u001b[0m\u001b[0m\n\u001b[1;32m    321\u001b[0m         \u001b[0mdata\u001b[0m \u001b[0;34m=\u001b[0m \u001b[0mself\u001b[0m\u001b[0;34m.\u001b[0m\u001b[0mbuffer\u001b[0m \u001b[0;34m+\u001b[0m \u001b[0minput\u001b[0m\u001b[0;34m\u001b[0m\u001b[0;34m\u001b[0m\u001b[0m\n",
      "\u001b[0;31mKeyboardInterrupt\u001b[0m: "
     ]
    }
   ],
   "source": []
  }
 ],
 "metadata": {
  "kernelspec": {
   "display_name": "Python 3",
   "language": "python",
   "name": "python3"
  },
  "language_info": {
   "codemirror_mode": {
    "name": "ipython",
    "version": 3
   },
   "file_extension": ".py",
   "mimetype": "text/x-python",
   "name": "python",
   "nbconvert_exporter": "python",
   "pygments_lexer": "ipython3",
   "version": "3.7.5"
  }
 },
 "nbformat": 4,
 "nbformat_minor": 2
}
